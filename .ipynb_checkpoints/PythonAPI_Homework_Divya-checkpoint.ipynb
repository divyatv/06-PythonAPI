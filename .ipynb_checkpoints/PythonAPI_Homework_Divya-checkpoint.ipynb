{
 "cells": [
  {
   "cell_type": "markdown",
   "metadata": {},
   "source": [
    "# WeatherPy\n",
    "----\n",
    "\n",
    "#### Note\n",
    "* Instructions have been included for each segment. You do not have to follow them exactly, but they are included to help you think through the steps."
   ]
  },
  {
   "cell_type": "code",
   "execution_count": null,
   "metadata": {},
   "outputs": [],
   "source": [
    "# Your final notebook must:\n",
    "\n",
    "# * Randomly select **at least** 500 unique (non-repeat) cities based on latitude and longitude.\n",
    "# * Perform a weather check on each of the cities using a series of successive API calls.\n",
    "# * Include a print log of each city as it's being processed with the city number and city name.\n",
    "# * Save both a CSV of all data retrieved and png images for each scatter plot.\n",
    "\n",
    "# As final considerations:\n",
    "\n",
    "# * You must complete your analysis using a Jupyter notebook.\n",
    "# * You must use the Matplotlib or Pandas plotting libraries.\n",
    "# * You must include a written description of three observable trends based on the data.\n",
    "# * You must use proper labeling of your plots, including aspects like: Plot Titles (with date of analysis) and Axes Labels.\n",
    "# * See [Example Solution](WeatherPy_Example.pdf) for a reference on expected format."
   ]
  },
  {
   "cell_type": "code",
   "execution_count": 1,
   "metadata": {
    "scrolled": true
   },
   "outputs": [],
   "source": [
    "# Dependencies and Setup\n",
    "import matplotlib.pyplot as plt\n",
    "import pandas as pd\n",
    "import numpy as np\n",
    "import requests\n",
    "import time\n",
    "\n",
    "\n",
    "##Divyas imports\n",
    "import json\n",
    "from pandas.io.json import json_normalize\n",
    "\n",
    "# Import API key\n",
    "from api_keys import api_key\n",
    "\n",
    "\n",
    "# Incorporated citipy to determine city based on latitude and longitude\n",
    "from citipy import citipy\n",
    "\n",
    "\n",
    "# Output File (CSV)\n",
    "output_data_file = \"output_data/cities.csv\"\n",
    "\n",
    "# Range of latitudes and longitudes\n",
    "lat_range = (-90, 90)\n",
    "lng_range = (-180, 180)"
   ]
  },
  {
   "cell_type": "markdown",
   "metadata": {},
   "source": [
    "## Generate Cities List"
   ]
  },
  {
   "cell_type": "code",
   "execution_count": 2,
   "metadata": {},
   "outputs": [
    {
     "data": {
      "text/plain": [
       "631"
      ]
     },
     "execution_count": 2,
     "metadata": {},
     "output_type": "execute_result"
    }
   ],
   "source": [
    "# List for holding lat_lngs and cities\n",
    "lat_lngs = []\n",
    "cities = []\n",
    "\n",
    "# Create a set of random lat and lng combinations\n",
    "lats = np.random.uniform(low=-90.000, high=90.000, size=1500)\n",
    "lngs = np.random.uniform(low=-180.000, high=180.000, size=1500)\n",
    "\n",
    "lat_lngs = zip(lats, lngs)\n",
    "\n",
    "#print(lat_lngs)\n",
    "\n",
    "# Identify nearest city for each lat, lng combination\n",
    "for lat_lng in lat_lngs:\n",
    "    city = citipy.nearest_city(lat_lng[0], lat_lng[1]).city_name\n",
    "    #print(city)\n",
    "    #print(lat_lng)\n",
    "    # If the city is unique, then add it to a our cities list\n",
    "    if city not in cities:\n",
    "        cities.append(city)\n",
    "\n",
    "        \n",
    "        \n",
    "#print(cities)   \n",
    "\n",
    "# Print the city count to confirm sufficient count\n",
    "len(cities)"
   ]
  },
  {
   "cell_type": "markdown",
   "metadata": {},
   "source": [
    "### Perform API Calls\n",
    "* Perform a weather check on each city using a series of successive API calls.\n",
    "* Include a print log of each city as it'sbeing processed (with the city number and city name).\n"
   ]
  },
  {
   "cell_type": "code",
   "execution_count": null,
   "metadata": {},
   "outputs": [],
   "source": []
  },
  {
   "cell_type": "code",
   "execution_count": 1,
   "metadata": {},
   "outputs": [
    {
     "ename": "IndentationError",
     "evalue": "expected an indented block (<ipython-input-1-3e1a23b813bb>, line 62)",
     "output_type": "error",
     "traceback": [
      "\u001b[1;36m  File \u001b[1;32m\"<ipython-input-1-3e1a23b813bb>\"\u001b[1;36m, line \u001b[1;32m62\u001b[0m\n\u001b[1;33m    time.sleep(30)\u001b[0m\n\u001b[1;37m       ^\u001b[0m\n\u001b[1;31mIndentationError\u001b[0m\u001b[1;31m:\u001b[0m expected an indented block\n"
     ]
    }
   ],
   "source": [
    "#http://api.openweathermap.org/data/2.5/weather?appid=aabe9dcdafb0dc3a3c51e7df52e100d1&units=metric&q=London\n",
    "#Perform a weather check on each city using a series of successive API calls.\n",
    "############################################################################################\n",
    "## Build the API urls\n",
    "baseurl=\"http://api.openweathermap.org/data/2.5/weather?\"\n",
    "units = \"metric\"\n",
    "###########################################################################################\n",
    "#target_url=\"http://api.openweathermap.org/data/2.5/weather?appid=aabe9dcdafb0dc3a3c51e7df52e100d1&units=metric&q=London\"\n",
    "# humidity=[]\n",
    "# temperature=[]\n",
    "# cloudiness=[]\n",
    "# windspeed=[]\n",
    "latitude=[]\n",
    "# longitude=[]\n",
    "# country=[]\n",
    "# max_temp=[]\n",
    "# date=[]\n",
    "\n",
    "# try:\n",
    "#     students[\"Jezebel\"]\n",
    "# except KeyError:\n",
    "#     print(\"Oops, that key doesn't exist.\")\n",
    "# with open(api_response, mode='w', encoding='utf-8') as f:\n",
    "#     json.dump([], f)\n",
    "###########################################################################################\n",
    "#### Call the API and write the output into a JSON file for further calculations\n",
    "#### Split the calls for 50 cities at once and then sleep for 30 secs to make sure limit \n",
    "#### doesnt exceed.\n",
    "#### print target url and Set number \n",
    "###########################################################################################\n",
    "reponsefull=[]\n",
    "\n",
    "for i in range(0, len(cities)):\n",
    "    target_url= baseurl+ \"appid=\" + api_key + \"&units=\" + units +\"&q=\" + cities[i]\n",
    "    print(\"target_url=\", target_url)\n",
    "    Set = i/50\n",
    "    try:\n",
    "        response=(requests.get(target_url).json())\n",
    "        with open(\"api_response.json\", mode='w', encoding='utf-8') as f:\n",
    "            reponsefull.append(response)\n",
    "            json.dump(reponsefull, f)\n",
    "        latitude.append(response['coord']['lat'])\n",
    "#         longitude.append(response['coord']['lon'])\n",
    "#         temperature.append(response['main']['temp'])\n",
    "#         humidity.append(response['main']['humidity'])\n",
    "#         cloudiness.append(response['clouds']['all'])\n",
    "#         windspeed.append(response['wind']['speed'])\n",
    "#         country.append(response['sys']['country'])\n",
    "#         max_temp.append(response['main']['temp_max'])\n",
    "#         date.append(response['dt'])\n",
    "        #vowels.index('e')\n",
    "        city=city\n",
    "        index=cities.index(city)\n",
    "        print('Processing Record', i , 'of Set', round(Set, 0),' |',  cities[i])\n",
    "    except KeyError as error: \n",
    "#         cities=cities.remove(city)\n",
    "        #print(f'{city} not found with error:{error}. Skipping ...')\n",
    "        print(cities[i], \"not found.Skipping ...\")\n",
    "################## SLEEP after 50 cities to make sure you dont exceed the api call limit #########################################################################        \n",
    "    if (i >50):\n",
    "        if (i//50 == 0):\n",
    "            time.sleep(30)   \n",
    " \n",
    "print(\"cities length\",len(cities))\n",
    "print(cities)\n",
    "\n",
    "###########################################################################################\n",
    "### Doc reference #########################################################################\n",
    "#df = pd.DataFrame.from_dict(json_normalize(data), orient='columns') -- json to dataframe for nested dict\n",
    "\n",
    "#weatherdf=pd.DataFrame.from_dict(json_normalize())\n",
    "\n",
    "##################\n",
    "# with open('response.txt', 'w') as outfile:  \n",
    "#     json.dump(output_data_file, outfile)\n"
   ]
  },
  {
   "cell_type": "code",
   "execution_count": null,
   "metadata": {},
   "outputs": [],
   "source": [
    "###########################################################################################\n",
    "### Everything is in a file and read  it to perform calculations.\n",
    "##########################################################################################\n",
    "#read the JSON file and make a dict or dataframe \n",
    "with open('api_response.json') as json_file:  \n",
    "    weather_data = json.load(json_file)\n",
    "#print(weather_data)    \n",
    "\n",
    "###########################################################################################\n",
    "#df = pd.DataFrame.from_dict(json_normalize(data), orient='columns') -- json to dataframe for nested dict\n",
    "\n",
    "weather_datadf=pd.DataFrame.from_dict(json_normalize(weather_data), orient='columns')\n",
    "\n",
    "###########################################################################################\n",
    "## Printing columns to understand the data better for plotting\n",
    "for col in weather_datadf.columns:\n",
    "    print(col)\n",
    "###########################################################################################   \n",
    "#### Insert a column in the dataframe called cities - from cities list- not needed really the balue is already there as\n",
    "### 'name' but this will let me check if the lat and longs are correct\n",
    "###########################################################################################\n",
    "column_values = pd.Series(cities)\n",
    "weather_datadf.insert(loc=0, column='cities', value=column_values)\n",
    "\n",
    "##Testing if the cities and their co-ordinates are correct.\n",
    "#print(weather_datadf[['sys.country', 'coord.lat', 'coord.lon', 'cities']])\n",
    "###########################################################################################\n",
    "## Igonore the code below **********\n",
    "###########################################################################################\n",
    "# print(cities)\n",
    "# weather_datadf['Cities']=cities\n",
    "\n",
    "# weather_datadf.describe()\n",
    "\n",
    "#print(weather_datadf['coord.lat'])\n",
    "# latitude.append(response['coord']['lat'])\n",
    "# longitude.append(response['coord']['lon'])\n",
    "# temperature.append(response['main']['temp'])\n",
    "# humidity.append(response['main']['humidity'])\n",
    "# cloudiness.append(response['clouds']['all'])\n",
    "# windspeed.append(response['wind']['speed'])\n",
    "# country.append(response['sys']['country'])\n",
    "# max_temp.append(response['main']['temp_max'])\n",
    "# date.append(response['dt'])"
   ]
  },
  {
   "cell_type": "code",
   "execution_count": null,
   "metadata": {},
   "outputs": [],
   "source": [
    "\n"
   ]
  },
  {
   "cell_type": "markdown",
   "metadata": {},
   "source": [
    "### Convert Raw Data to DataFrame\n",
    "* Export the city data into a .csv.\n",
    "* Display the DataFrame"
   ]
  },
  {
   "cell_type": "code",
   "execution_count": null,
   "metadata": {},
   "outputs": [],
   "source": [
    "###DataFrame.to_csv(path_or_buf=None, sep=', ', na_rep='', float_format=None, columns=None, header=True, \n",
    "###index=True, index_label=None, mode='w', encoding=None, compression='infer', quoting=None, quotechar='\"', \n",
    "###line_terminator=None, chunksize=None, tupleize_cols=None, date_format=None, doublequote=True, escapechar=None,\n",
    "###decimal='.')[source]\n",
    "   \n",
    "newweatherdf=weather_datadf[['cities','clouds.all','sys.country','dt','main.humidity','coord.lat','coord.lon','main.temp_max','wind.speed']]\n",
    "\n",
    "\n",
    "from datetime import date\n",
    "newweatherdf['dt'] = pd.to_datetime(newweatherdf['dt'],unit='s') \n",
    "newweatherdf=newweatherdf.dropna(thresh=2)\n",
    "newweatherdf.rename(columns = {'cities':'City','clouds.all':'Cloudiness', 'sys.country':'Country', 'dt':'Date',\n",
    "                              'main.humidity':'Humidity','coord.lat':'Latitude' , 'coord.lon': 'Longitude',\n",
    "                              'main.temp_max':'MaxTemperature', 'wind.speed':'WindSpeed'}, inplace = True)\n",
    "\n",
    "with open(\"weather_data.csv\", mode='w',newline='') as datafile: \n",
    "    newweatherdf.to_csv(path_or_buf=datafile, index=True)\n",
    "    \n",
    "newweatherdf.head(20)\n",
    "\n",
    "###### IGNORE the caveats ****"
   ]
  },
  {
   "cell_type": "code",
   "execution_count": null,
   "metadata": {},
   "outputs": [],
   "source": [
    "newweatherdf.count()"
   ]
  },
  {
   "cell_type": "code",
   "execution_count": null,
   "metadata": {},
   "outputs": [],
   "source": []
  },
  {
   "cell_type": "code",
   "execution_count": null,
   "metadata": {},
   "outputs": [],
   "source": []
  },
  {
   "cell_type": "code",
   "execution_count": null,
   "metadata": {},
   "outputs": [],
   "source": []
  },
  {
   "cell_type": "markdown",
   "metadata": {},
   "source": [
    "### Plotting the Data\n",
    "* Use proper labeling of the plots using plot titles (including date of analysis) and axes labels.\n",
    "* Save the plotted figures as .pngs."
   ]
  },
  {
   "cell_type": "markdown",
   "metadata": {},
   "source": [
    "#### Latitude vs. Temperature Plot"
   ]
  },
  {
   "cell_type": "code",
   "execution_count": null,
   "metadata": {},
   "outputs": [],
   "source": [
    "from datetime import date\n",
    "\n",
    "plt.figure(figsize=(10, 7), dpi=80)\n",
    "maxtemperature=weather_datadf['main.temp_max']\n",
    "latitude=weather_datadf['coord.lat']\n",
    "\n",
    "plt.scatter(latitude, maxtemperature,  marker=\"o\", \n",
    "                       facecolors=\"skyblue\", edgecolors=\"black\",label = \"Suburban\", alpha=0.80, linewidths=1)\n",
    "\n",
    "##### Get today's date in the title ##################\n",
    "da=date.today()\n",
    "title=\"City latitude Vs. Max Temperature(\" + str(da) +\")\"\n",
    "#print(\"title=\", title)\n",
    "plt.title(title)\n",
    "plt.xlabel(\"Latitude\")\n",
    "plt.ylabel(\"Max Temperature (F)\")\n",
    "plt.grid(True)\n",
    "plt.savefig(\"Divya_Scatter_lat_maxtemp.png\", transparent=False, bbox_inches=\"tight\")\n"
   ]
  },
  {
   "cell_type": "code",
   "execution_count": null,
   "metadata": {},
   "outputs": [],
   "source": []
  },
  {
   "cell_type": "markdown",
   "metadata": {},
   "source": [
    "#### Latitude vs. Humidity Plot"
   ]
  },
  {
   "cell_type": "code",
   "execution_count": null,
   "metadata": {},
   "outputs": [],
   "source": [
    "from datetime import date\n",
    "\n",
    "plt.figure(figsize=(10, 7), dpi=80)\n",
    "humidity=weather_datadf['main.humidity']\n",
    "latitude=weather_datadf['coord.lat']\n",
    "plt.ylim(10, 110)\n",
    "#plt.yticks(20, 100, 20)\n",
    "\n",
    "plt.scatter(latitude, humidity,  marker=\"o\", \n",
    "                       facecolors=\"skyblue\", edgecolors=\"black\",label = \"Suburban\", alpha=0.80, linewidths=1)\n",
    "\n",
    "##### Get today's date in the title ##################\n",
    "da=date.today()\n",
    "title=\"City latitude Vs. Humidity(\" + str(da) +\")\"\n",
    "#print(\"title=\", title)\n",
    "plt.title(title)\n",
    "#plt.title(\"City latitude Vs. Humidity (08/22/18)\")\n",
    "plt.xlabel(\"Latitude\")\n",
    "plt.ylabel(\"Humidity(%)\")\n",
    "plt.grid(True)\n",
    "plt.savefig(\"Divya_Scatter_lat_humidity.png\", transparent=False, bbox_inches=\"tight\")"
   ]
  },
  {
   "cell_type": "code",
   "execution_count": null,
   "metadata": {},
   "outputs": [],
   "source": []
  },
  {
   "cell_type": "markdown",
   "metadata": {},
   "source": [
    "#### Latitude vs. Cloudiness Plot"
   ]
  },
  {
   "cell_type": "code",
   "execution_count": null,
   "metadata": {},
   "outputs": [],
   "source": [
    "from datetime import date\n",
    "\n",
    "plt.figure(figsize=(10, 7), dpi=80)\n",
    "cloudiness=weather_datadf['clouds.all']\n",
    "latitude=weather_datadf['coord.lat']\n",
    "\n",
    "plt.scatter(latitude, cloudiness,  marker=\"o\", \n",
    "                       facecolors=\"skyblue\", edgecolors=\"black\",label = \"Suburban\", alpha=0.80, linewidths=1)\n",
    "\n",
    "\n",
    "##### Get today's date in the title ##################\n",
    "da=date.today()\n",
    "title=\"City latitude Vs. Cloudiness(\" + str(da) +\")\"\n",
    "#print(\"title=\", title)\n",
    "plt.title(title)\n",
    "\n",
    "#plt.title(\"City latitude Vs. Cloudiness (08/22/18)\")\n",
    "plt.xlabel(\"Latitude\")\n",
    "plt.ylabel(\"Cloudiness(%)\")\n",
    "plt.grid(True)\n",
    "plt.savefig(\"Divya_Scatter_lat_cloudiness.png\", transparent=False, bbox_inches=\"tight\")"
   ]
  },
  {
   "cell_type": "code",
   "execution_count": null,
   "metadata": {},
   "outputs": [],
   "source": []
  },
  {
   "cell_type": "markdown",
   "metadata": {},
   "source": [
    "#### Latitude vs. Wind Speed Plot"
   ]
  },
  {
   "cell_type": "code",
   "execution_count": null,
   "metadata": {},
   "outputs": [],
   "source": [
    "from datetime import date\n",
    "\n",
    "plt.figure(figsize=(10, 7), dpi=80)\n",
    "windspeed=weather_datadf['wind.speed']\n",
    "latitude=weather_datadf['coord.lat']\n",
    "\n",
    "plt.scatter(latitude, windspeed,  marker=\"o\", \n",
    "                       facecolors=\"skyblue\", edgecolors=\"black\",label = \"Suburban\", alpha=0.80, linewidths=1)\n",
    "\n",
    "##### Get today's date in the title ##################\n",
    "da=date.today()\n",
    "title=\"City latitude Vs. Wind Speed(\" + str(da) +\")\"\n",
    "#print(\"title=\", title)\n",
    "plt.title(title)\n",
    "#plt.title(\"City latitude Vs. Wind Speed (08/22/18)\")\n",
    "plt.xlabel(\"Latitude\")\n",
    "plt.ylabel(\"Wind Speed (mph)\")\n",
    "plt.grid(True)\n",
    "\n",
    "plt.savefig(\"Divya_Scatter_lat_windspeed.png\", transparent=False, bbox_inches=\"tight\")"
   ]
  },
  {
   "cell_type": "code",
   "execution_count": null,
   "metadata": {},
   "outputs": [],
   "source": []
  },
  {
   "cell_type": "code",
   "execution_count": null,
   "metadata": {},
   "outputs": [],
   "source": []
  }
 ],
 "metadata": {
  "anaconda-cloud": {},
  "kernel_info": {
   "name": "python3"
  },
  "kernelspec": {
   "display_name": "Python [conda env:PythonData] *",
   "language": "python",
   "name": "conda-env-PythonData-py"
  },
  "language_info": {
   "codemirror_mode": {
    "name": "ipython",
    "version": 3
   },
   "file_extension": ".py",
   "mimetype": "text/x-python",
   "name": "python",
   "nbconvert_exporter": "python",
   "pygments_lexer": "ipython3",
   "version": "3.7.3"
  },
  "nteract": {
   "version": "0.12.3"
  }
 },
 "nbformat": 4,
 "nbformat_minor": 2
}
